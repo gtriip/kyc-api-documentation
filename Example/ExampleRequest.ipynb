{
 "cells": [
  {
   "cell_type": "code",
   "execution_count": 4,
   "metadata": {},
   "outputs": [],
   "source": [
    "import base64\n",
    "import pprint\n",
    "import requests"
   ]
  },
  {
   "cell_type": "markdown",
   "metadata": {},
   "source": [
    "# Session API"
   ]
  },
  {
   "cell_type": "code",
   "execution_count": 1,
   "metadata": {},
   "outputs": [],
   "source": [
    "request_header = {\n",
    "    'x-api-key': '' # Your API Key here.\n",
    "}"
   ]
  },
  {
   "cell_type": "code",
   "execution_count": 2,
   "metadata": {},
   "outputs": [],
   "source": [
    "base_url = 'https://kyc-qa.gtriip.com'"
   ]
  },
  {
   "cell_type": "code",
   "execution_count": 5,
   "metadata": {},
   "outputs": [],
   "source": [
    "response = requests.get(\n",
    "    url=f'{base_url}/session/',\n",
    "    headers=request_header,\n",
    ")"
   ]
  },
  {
   "cell_type": "code",
   "execution_count": 6,
   "metadata": {},
   "outputs": [
    {
     "name": "stdout",
     "output_type": "stream",
     "text": [
      "{'session_token': 'uk-hN7xPwzQGProi0oRSG8z7thVuaQQ4', 'success': True}\n"
     ]
    }
   ],
   "source": [
    "pprint.pprint(response.json())"
   ]
  },
  {
   "cell_type": "code",
   "execution_count": 46,
   "metadata": {},
   "outputs": [],
   "source": [
    "request_header = {\n",
    "    'x-api-key': '', # Your API Key here.\n",
    "    'x-session-key': ''\n",
    "}"
   ]
  },
  {
   "cell_type": "markdown",
   "metadata": {},
   "source": [
    "# Passport Recognition API"
   ]
  },
  {
   "cell_type": "code",
   "execution_count": 47,
   "metadata": {},
   "outputs": [],
   "source": [
    "img_file = 'passport_specimen.jpg'\n",
    "img_bytes = open(img_file, 'rb').read()\n",
    "img_encoded = base64.b64encode(img_bytes)"
   ]
  },
  {
   "cell_type": "code",
   "execution_count": 48,
   "metadata": {},
   "outputs": [],
   "source": [
    "request_body = {\n",
    "    'image_bytes': img_encoded,\n",
    "    'skip_face_detect': False\n",
    "}"
   ]
  },
  {
   "cell_type": "code",
   "execution_count": 49,
   "metadata": {},
   "outputs": [],
   "source": [
    "response = requests.post(\n",
    "    url=f'{base_url}/passport/',\n",
    "    headers=request_header,\n",
    "    data=request_body\n",
    ")"
   ]
  },
  {
   "cell_type": "code",
   "execution_count": 50,
   "metadata": {},
   "outputs": [
    {
     "name": "stdout",
     "output_type": "stream",
     "text": [
      "{'result': {'check_composite': '4',\n",
      "            'check_date_of_birth': '1',\n",
      "            'check_expiration_date': '6',\n",
      "            'check_number': '2',\n",
      "            'check_personal_number': '8',\n",
      "            'country': 'Netherlands',\n",
      "            'date_of_birth': '1965-03-10',\n",
      "            'document_type': 'passport',\n",
      "            'expiration_date': '2024-03-09',\n",
      "            'expired': False,\n",
      "            'first_name': 'WILLEKE LISELOTTE',\n",
      "            'last_name': 'DE BRUIJN',\n",
      "            'mrz_type': 'TD3',\n",
      "            'names': 'WILLEKE LISELOTTE',\n",
      "            'nationality': 'NLD',\n",
      "            'number': 'SPECI2014',\n",
      "            'personal_number': '999999990',\n",
      "            'raw_text': 'PNLDDEBRUIJNWILLEKELISELOTTE\\n'\n",
      "                        'SPECI20142NLD6503101F240309699999999084\\n',\n",
      "            'sex': 'Female',\n",
      "            'type': 'P',\n",
      "            'valid_composite': True,\n",
      "            'valid_date_of_birth': True,\n",
      "            'valid_expiration_date': True,\n",
      "            'valid_number': True,\n",
      "            'valid_personal_number': True,\n",
      "            'valid_score': 100},\n",
      " 'success': True}\n"
     ]
    }
   ],
   "source": [
    "pprint.pprint(response.json())"
   ]
  },
  {
   "cell_type": "markdown",
   "metadata": {},
   "source": [
    "# Liveness API"
   ]
  },
  {
   "cell_type": "code",
   "execution_count": 51,
   "metadata": {},
   "outputs": [],
   "source": [
    "img_file = 'printed.png'\n",
    "img_bytes = open(img_file, 'rb').read()\n",
    "img_encoded = base64.b64encode(img_bytes)"
   ]
  },
  {
   "cell_type": "code",
   "execution_count": 52,
   "metadata": {},
   "outputs": [],
   "source": [
    "request_body = {\n",
    "    'image_bytes': img_encoded\n",
    "}"
   ]
  },
  {
   "cell_type": "code",
   "execution_count": 53,
   "metadata": {},
   "outputs": [],
   "source": [
    "response = requests.post(\n",
    "    url=f'{base_url}/liveness/',\n",
    "    headers=request_header,\n",
    "    data=request_body\n",
    ")"
   ]
  },
  {
   "cell_type": "code",
   "execution_count": 54,
   "metadata": {},
   "outputs": [
    {
     "name": "stdout",
     "output_type": "stream",
     "text": [
      "{'result': {'liveness': False, 'score': 0.7551308274269104}, 'success': True}\n"
     ]
    }
   ],
   "source": [
    "pprint.pprint(response.json())"
   ]
  },
  {
   "cell_type": "markdown",
   "metadata": {},
   "source": [
    "# Compare API"
   ]
  },
  {
   "cell_type": "code",
   "execution_count": 55,
   "metadata": {},
   "outputs": [],
   "source": [
    "img_file_face = 'printed.png'\n",
    "img_bytes_face = open(img_file_face, 'rb').read()\n",
    "img_encoded_face = base64.b64encode(img_bytes_face)"
   ]
  },
  {
   "cell_type": "code",
   "execution_count": 56,
   "metadata": {},
   "outputs": [],
   "source": [
    "img_file_doc = 'passport_specimen.jpg'\n",
    "img_bytes_doc = open(img_file_doc, 'rb').read()\n",
    "img_encoded_doc = base64.b64encode(img_bytes_doc)"
   ]
  },
  {
   "cell_type": "code",
   "execution_count": 57,
   "metadata": {},
   "outputs": [],
   "source": [
    "request_body = {\n",
    "    'pic1_bytes': img_encoded_face,\n",
    "    'pic2_bytes': img_encoded_doc,\n",
    "    'auto_rotate': False\n",
    "}"
   ]
  },
  {
   "cell_type": "code",
   "execution_count": 58,
   "metadata": {},
   "outputs": [],
   "source": [
    "response = requests.post(\n",
    "    url=f'{base_url}/compare/',\n",
    "    headers=request_header,\n",
    "    data=request_body\n",
    ")"
   ]
  },
  {
   "cell_type": "code",
   "execution_count": 59,
   "metadata": {},
   "outputs": [
    {
     "name": "stdout",
     "output_type": "stream",
     "text": [
      "{'result': {'is_match': False,\n",
      "            'one_e3': 62.327,\n",
      "            'one_e4': 69.101,\n",
      "            'one_e5': 73.975,\n",
      "            'score': 17.631},\n",
      " 'success': True}\n"
     ]
    }
   ],
   "source": [
    "pprint.pprint(response.json())"
   ]
  }
 ],
 "metadata": {
  "kernelspec": {
   "display_name": "dev_ocr",
   "language": "python",
   "name": "python3"
  },
  "language_info": {
   "codemirror_mode": {
    "name": "ipython",
    "version": 3
   },
   "file_extension": ".py",
   "mimetype": "text/x-python",
   "name": "python",
   "nbconvert_exporter": "python",
   "pygments_lexer": "ipython3",
   "version": "3.10.12"
  }
 },
 "nbformat": 4,
 "nbformat_minor": 2
}
